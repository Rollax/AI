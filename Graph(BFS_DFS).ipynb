{
 "cells": [
  {
   "cell_type": "code",
   "execution_count": 1,
   "metadata": {},
   "outputs": [],
   "source": [
    "graph = { \"51\" : [\"3\", \"6\"],\n",
    "          \"3\" : [\"6\", \"9\"],\n",
    "          \"6\" : [\"51\", \"3\", \"57\", \"8\"],\n",
    "          \"57\" : [\"6\"],\n",
    "          \"9\" : [\"3\", \"8\"],\n",
    "          \"8\" : [\"9\", \"6\", \"42\", \"1\"],\n",
    "         \"42\" : [\"8\"],\n",
    "         \"1\" : [\"8\", \"14\"],\n",
    "         \"14\" : [\"1\", \"97\"],\n",
    "         \"97\" : [\"14\"],\n",
    "        }"
   ]
  },
  {
   "cell_type": "code",
   "execution_count": 2,
   "metadata": {},
   "outputs": [],
   "source": [
    "class Graph(object):\n",
    "    \n",
    "    def __init__(self, graph_dict=None):\n",
    "        self.__graph_dict = graph_dict\n",
    "    \n",
    "    def count_vertices(self):\n",
    "        return list(self.__graph_dict.keys())\n",
    "    \n",
    "    def find_vertex(self, vertex):\n",
    "        if vertex in list(self.__graph_dict.keys()):\n",
    "            return (True)\n",
    "            \n",
    "        else:\n",
    "            return (False)\n",
    "           \n",
    "\n",
    "g = Graph(graph)"
   ]
  },
  {
   "cell_type": "code",
   "execution_count": 7,
   "metadata": {},
   "outputs": [
    {
     "name": "stdout",
     "output_type": "stream",
     "text": [
      "Path to 42 ['42', '8', '9', '6', '1', '3', '51', '57', '14', '97']\n"
     ]
    }
   ],
   "source": [
    "def bfs_traversal(self, start):\n",
    "    explored = []\n",
    "    queue = [start]\n",
    "    while queue:\n",
    "        node = queue.pop(0)\n",
    "        if node not in explored:\n",
    "            explored.append(node)\n",
    "            neighbours = self[node]\n",
    " \n",
    "            for neighbour in neighbours:\n",
    "                queue.append(neighbour)\n",
    "    return explored\n",
    "\n",
    "print(\"Path to 42\", bfs_traversal(graph, '42'))"
   ]
  },
  {
   "cell_type": "code",
   "execution_count": 6,
   "metadata": {},
   "outputs": [
    {
     "name": "stdout",
     "output_type": "stream",
     "text": [
      "Path to 42 ? ['42', '8', '9', '3', '6', '51', '57', '1', '14', '97']\n"
     ]
    }
   ],
   "source": [
    "visited = []\n",
    "def dfs_traversal(graph,start):\n",
    "    if start not in visited:\n",
    "        visited.append(start)\n",
    "        for n in graph[start]:\n",
    "            dfs_traversal(graph,n)\n",
    "    return visited\n",
    "\n",
    "print(\"Path to 42 ?\", dfs_traversal(graph, '42'))"
   ]
  },
  {
   "cell_type": "code",
   "execution_count": null,
   "metadata": {},
   "outputs": [],
   "source": []
  }
 ],
 "metadata": {
  "kernelspec": {
   "display_name": "Python 3",
   "language": "python",
   "name": "python3"
  },
  "language_info": {
   "codemirror_mode": {
    "name": "ipython",
    "version": 3
   },
   "file_extension": ".py",
   "mimetype": "text/x-python",
   "name": "python",
   "nbconvert_exporter": "python",
   "pygments_lexer": "ipython3",
   "version": "3.7.3"
  }
 },
 "nbformat": 4,
 "nbformat_minor": 2
}
